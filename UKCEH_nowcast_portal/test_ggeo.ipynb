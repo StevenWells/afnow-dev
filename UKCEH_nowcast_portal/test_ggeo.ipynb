{
 "cells": [
  {
   "cell_type": "markdown",
   "metadata": {},
   "source": [
    "## Example usage for converting images into GeoTiFF files for use in the UKCEH nowcasting portal"
   ]
  },
  {
   "cell_type": "markdown",
   "metadata": {},
   "source": [
    "Import the *generate_geotiff* python script. This will also pull in the script *u_interpolate*<br>\n",
    "\n",
    "The scripts also require the following libraries:<br>\n",
    "\n",
    "*import numpy as np<br>\n",
    "import u_interpolate as uinterp<br>\n",
    "import rasterio, os<br>\n",
    "from osgeo import gdal<br>\n",
    "import datetime<br>\n",
    "import shlex, subprocess<br>*"
   ]
  },
  {
   "cell_type": "code",
   "execution_count": 3,
   "metadata": {},
   "outputs": [],
   "source": [
    "# import the geotiff writer\n",
    "from generate_geotiff import *\n",
    "import datetime"
   ]
  },
  {
   "cell_type": "markdown",
   "metadata": {},
   "source": [
    "Set up an instance of the GeTIFF writer class, defining the data folder that the work will be added to. \n",
    "The data are added to the folder \\<root>/\\<userid>_\\<modelname>\n",
    "\n",
    "Note that the \"live\" nowcasting folder is **/gws/nopw/j04/swift/UKCEH_nowcast_portal**, which is what \\<root> should be set to once data are ready to be viewed on the portal.\n",
    "\n",
    "The **crs** is the projection of the data being provided, and should be given in the format *EPSG:xxxx*.\n"
   ]
  },
  {
   "cell_type": "code",
   "execution_count": 4,
   "metadata": {},
   "outputs": [],
   "source": [
    "# set up an instance of the writer relating to the product you are amending\n",
    "# data will by default be stored under root/user_product\n",
    "root = \"./UKCEH_nowcast_portal\"\n",
    "userid = \"stewells\"\n",
    "modelname = \"test\"\n",
    "\n",
    "testProd = UKCEH_PortalProduct(userid,modelname,crs='EPSG:4326',root=root)"
   ]
  },
  {
   "cell_type": "markdown",
   "metadata": {},
   "source": [
    "Three data items are required: \n",
    "1. A numpy array of the image to be displayed\n",
    "2. A numpy array of the latitudes each pixel\n",
    "3. A numpy array of the longitudes of each pixel\n",
    "\n",
    "The two additional requred parameters refer to the validity time of the image. <br>\n",
    "The **originTime** is a datetime object specifying the *origin* of the nowcast.<br>\n",
    "The **leadTime** is the leadtime of the nowcast expressed as number of minutes after the origin time. <br>\n",
    "\n"
   ]
  },
  {
   "cell_type": "code",
   "execution_count": null,
   "metadata": {},
   "outputs": [],
   "source": []
  },
  {
   "cell_type": "code",
   "execution_count": 3,
   "metadata": {},
   "outputs": [],
   "source": [
    "# maek some data\n",
    "myIm = np.random.rand(10, 10)\n",
    "# Create lons array where each row goes from 1, incrementing by 0.1\n",
    "lons = np.tile(np.linspace(1, 1.9, 10), (10, 1))\n",
    "# Create lats array where each column goes from 5 at the top, reducing by 0.1\n",
    "lats = np.tile(np.linspace(5, 4.1, 10).reshape(-1, 1), (1, 10))\n",
    "\n",
    "originTime = datetime.datetime(2025,1,1,12,0)\n",
    "leadTime = 60"
   ]
  },
  {
   "cell_type": "markdown",
   "metadata": {},
   "source": [
    "Run the *generate_portal_geotiff* method to create the GeoTIFF. The file will be added automatically to a date-stamped folder within the *\\<root>/\\<>"
   ]
  },
  {
   "cell_type": "code",
   "execution_count": 4,
   "metadata": {},
   "outputs": [],
   "source": [
    "testProd.generate_portal_geotiff(myIm,lats,lons,originTime,leadTime,outFile =None,irregular=True)"
   ]
  },
  {
   "cell_type": "code",
   "execution_count": null,
   "metadata": {},
   "outputs": [],
   "source": []
  }
 ],
 "metadata": {
  "kernelspec": {
   "display_name": "nflics_tensor",
   "language": "python",
   "name": "python3"
  },
  "language_info": {
   "codemirror_mode": {
    "name": "ipython",
    "version": 3
   },
   "file_extension": ".py",
   "mimetype": "text/x-python",
   "name": "python",
   "nbconvert_exporter": "python",
   "pygments_lexer": "ipython3",
   "version": "3.11.11"
  }
 },
 "nbformat": 4,
 "nbformat_minor": 2
}
